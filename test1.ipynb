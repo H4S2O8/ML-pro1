{
 "cells": [
  {
   "cell_type": "code",
   "execution_count": 90,
   "metadata": {
    "collapsed": true
   },
   "outputs": [],
   "source": [
    "import sklearn\n",
    "import sklearn.metrics as metrics\n",
    "from sklearn.datasets import load_iris\n",
    "import pandas\n",
    "import numpy as np\n",
    "from pandas import Series, DataFrame\n",
    "from sklearn.model_selection import train_test_split"
   ]
  },
  {
   "cell_type": "code",
   "execution_count": 15,
   "outputs": [],
   "source": [
    "wm_dataset:DataFrame = pandas.read_csv('./watermelon.csv')"
   ],
   "metadata": {
    "collapsed": false
   }
  },
  {
   "cell_type": "code",
   "execution_count": 16,
   "outputs": [],
   "source": [
    "iris_dataset = load_iris()"
   ],
   "metadata": {
    "collapsed": false
   }
  },
  {
   "cell_type": "code",
   "execution_count": 91,
   "outputs": [],
   "source": [
    "class LogisticModel:\n",
    "    # this model only need to judge if the watermelon is good or not, so only need 1 dimension of output.\n",
    "    output_dim = 1\n",
    "\n",
    "    def __init__(self, ori_x: np.ndarray, ori_y: np.ndarray):\n",
    "        \"\"\"\n",
    "        :param ori_x: original input matrix X\n",
    "        :param ori_y: original output matrix Y\n",
    "        \"\"\"\n",
    "        self.x_hat: np.ndarray = np.c_[ori_x, np.ones(ori_x.shape[0])]\n",
    "        self.beta: np.ndarray = np.random.rand(ori_x.shape[1] + 1, LogisticModel.output_dim)\n",
    "        self.y = ori_y.reshape(-1, 1)\n",
    "\n",
    "    def sigmoid(self, x: np.ndarray) -> np.ndarray:\n",
    "        ans = 1 / (1 + np.exp(-x))\n",
    "        return ans\n",
    "\n",
    "    def _cost(self):\n",
    "        Lbeta = -self.y * np.dot(self.x_hat, self.beta) + np.log(1 + np.exp(np.dot(self.x_hat, self.beta)))\n",
    "        return Lbeta.sum()\n",
    "\n",
    "    def gradient(self):\n",
    "        p1 = self.sigmoid(np.dot(self.x_hat, self.beta))\n",
    "        gra = -np.dot(self.x_hat.T, self.y - p1)\n",
    "        return gra\n",
    "\n",
    "    def fit(self, it: int):\n",
    "        for i in range(it):\n",
    "            self.beta = self.beta - 0.05 * self.gradient()\n",
    "            # if i%10 == 0:\n",
    "            #     print(f\"cost={self._cost()}\")\n",
    "\n",
    "    def predict(self, new_x: np.ndarray):\n",
    "        x_hat = np.c_[new_x, np.ones(new_x.shape[0])]\n",
    "        ans = np.dot(x_hat, self.beta)\n",
    "        ans[ans >= 0.5] = 1\n",
    "        ans[ans < 0.5] = 0\n",
    "        return ans\n",
    "\n",
    "    @staticmethod\n",
    "    def evaluate(ans: np.ndarray, true_y: np.ndarray):\n",
    "        # print(\"acc:\", (true_y - ans)[true_y == ans].size / true_y.size)\n",
    "        acs = metrics.accuracy_score(true_y, ans)\n",
    "        print(\"acc:\", acs)\n",
    "        print(\"square loss:\", np.linalg.norm(true_y - ans) / true_y.size)\n",
    "        if true_y.max() <= 1:\n",
    "            print(\"log loss:\", sklearn.metrics.log_loss(true_y, ans))\n",
    "\n",
    "def vote(vote_table: np.ndarray):\n",
    "    vote_table = vote_table.reshape(-1, 3)\n",
    "    ans = np.zeros(vote_table.shape[0])\n",
    "    for i in range(vote_table.shape[0]):\n",
    "        if vote_table[i, 0] == 0 and vote_table[i, 2] == 1:\n",
    "            ans[i] = 1\n",
    "        elif vote_table[i, 0] == 1 and vote_table[i, 1] == 1:\n",
    "            ans[i] = 2\n",
    "        elif vote_table[i, 1] == 0 and vote_table[i, 2] == 0:\n",
    "            ans[i] = 0\n",
    "        else:\n",
    "            ans[i] = 0\n",
    "    return ans.reshape(-1, 1)\n"
   ],
   "metadata": {
    "collapsed": false
   }
  },
  {
   "cell_type": "code",
   "execution_count": 92,
   "outputs": [
    {
     "name": "stdout",
     "output_type": "stream",
     "text": [
      "acc: 0.7058823529411765\n",
      "acc: 0.7058823529411765\n",
      "square loss: 0.1315334104411641\n",
      "log loss: 10.158510680704918\n"
     ]
    }
   ],
   "source": [
    "density = wm_dataset.密度\n",
    "sugar_rate = wm_dataset.含糖率\n",
    "x = np.c_[density,sugar_rate] #每个row为一条记录, m*p, m为样本数, p为单样本参数数量\n",
    "y:np.ndarray = wm_dataset.好瓜.replace('是',1).replace('否',0).to_numpy().reshape(-1,1) #真实结果向量\n",
    "lm = LogisticModel(x,y)\n",
    "lm.fit(5000)\n",
    "pre = lm.predict(x)\n",
    "LogisticModel.evaluate(pre, y)"
   ],
   "metadata": {
    "collapsed": false
   }
  },
  {
   "cell_type": "code",
   "execution_count": 89,
   "outputs": [
    {
     "name": "stdout",
     "output_type": "stream",
     "text": [
      "acc: 0.9866666666666667\n",
      "square loss: 0.009428090415820635\n"
     ]
    }
   ],
   "source": [
    "X, y = sklearn.datasets.load_iris(return_X_y=True)\n",
    "X1, y1 = X[y != 0], y[y != 0]  # 1 or 2\n",
    "y1[y1 == 1] = 0\n",
    "y1[y1 == 2] = 1\n",
    "y1 = y1.reshape(-1, 1)\n",
    "X2, y2 = X[y != 1], y[y != 1]  # 0 or 2\n",
    "y2[y2 == 0] = 0\n",
    "y2[y2 == 2] = 1\n",
    "y2 = y2.reshape(-1, 1)\n",
    "X3, y3 = X[y != 2], y[y != 2]  # 0 or 1\n",
    "y3[y3 == 0] = 0\n",
    "y3[y3 == 1] = 1\n",
    "y3 = y3.reshape(-1, 1)\n",
    "X1_train, X1_test, y1_train, y1_test = train_test_split(X1, y1, test_size=0.3, random_state=0)\n",
    "X2_train, X2_test, y2_train, y2_test = train_test_split(X2, y2, test_size=0.3, random_state=0)\n",
    "X3_train, X3_test, y3_train, y3_test = train_test_split(X3, y3, test_size=0.3, random_state=0)\n",
    "\n",
    "lm_iris_1 = LogisticModel(X1_train, y1_train)\n",
    "lm_iris_2 = LogisticModel(X2_train, y2_train)\n",
    "lm_iris_3 = LogisticModel(X3_train, y3_train)\n",
    "\n",
    "lm_iris_1.fit(5000)\n",
    "lm_iris_2.fit(5000)\n",
    "lm_iris_3.fit(5000)\n",
    "\n",
    "# p_iris_1 = lm_iris_1.predict(X1_test, y1_test)\n",
    "# p_iris_2 = lm_iris_2.predict(X2_test, y2_test)\n",
    "# p_iris_3 = lm_iris_3.predict(X3_test, y3_test)\n",
    "\n",
    "y = y.reshape(-1, 1)\n",
    "p_iris_all_1 = lm_iris_1.predict(X)\n",
    "p_iris_all_2 = lm_iris_2.predict(X)\n",
    "p_iris_all_3 = lm_iris_3.predict(X)\n",
    "\n",
    "p_iris = np.c_[p_iris_all_1, p_iris_all_2, p_iris_all_3]\n",
    "vote_ans = vote(p_iris)\n",
    "LogisticModel.evaluate(vote_ans, y)"
   ],
   "metadata": {
    "collapsed": false
   }
  },
  {
   "cell_type": "code",
   "execution_count": null,
   "outputs": [],
   "source": [],
   "metadata": {
    "collapsed": false
   }
  }
 ],
 "metadata": {
  "kernelspec": {
   "display_name": "Python 3",
   "language": "python",
   "name": "python3"
  },
  "language_info": {
   "codemirror_mode": {
    "name": "ipython",
    "version": 2
   },
   "file_extension": ".py",
   "mimetype": "text/x-python",
   "name": "python",
   "nbconvert_exporter": "python",
   "pygments_lexer": "ipython2",
   "version": "2.7.6"
  }
 },
 "nbformat": 4,
 "nbformat_minor": 0
}
